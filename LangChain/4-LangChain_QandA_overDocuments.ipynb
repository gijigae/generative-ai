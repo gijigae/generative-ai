{
 "cells": [
  {
   "cell_type": "markdown",
   "id": "66d73b3e-e436-432e-986f-cf8ee768ab6a",
   "metadata": {},
   "source": [
    "# LangChain: Q&A over Documents\n",
    "\n",
    "An example might be a tool that would allow you to query a product catalog for items of interest.\n",
    "\n",
    "First install necessary libraries and import them."
   ]
  },
  {
   "cell_type": "code",
   "execution_count": null,
   "id": "10c4f092-9e5b-4ecc-b705-2847cdda0f0c",
   "metadata": {},
   "outputs": [],
   "source": [
    "# Install Vertex AI LLM SDK\n",
    "import sys\n",
    "!{sys.executable} -m pip install google-cloud-aiplatform langchain pandas datasets google-api-python-client chromadb pypdf faiss-cpu transformers config --upgrade --user"
   ]
  },
  {
   "cell_type": "code",
   "execution_count": null,
   "id": "419316a7-3fc4-41b4-8ee0-78dd2a12b98f",
   "metadata": {},
   "outputs": [],
   "source": [
    "from langchain.chains import RetrievalQA\n",
    "from langchain.chat_models import ChatVertexAI\n",
    "from langchain.document_loaders import CSVLoader\n",
    "from langchain.vectorstores import DocArrayInMemorySearch\n",
    "from langchain.embeddings import VertexAIEmbeddings\n",
    "from IPython.display import display, Markdown"
   ]
  },
  {
   "cell_type": "code",
   "execution_count": null,
   "id": "b324d265-349f-434b-8390-70045b4967d4",
   "metadata": {},
   "outputs": [],
   "source": [
    "from langchain.indexes import VectorstoreIndexCreator"
   ]
  },
  {
   "cell_type": "code",
   "execution_count": null,
   "id": "abbfec88-4349-4def-945d-164fb62c12a8",
   "metadata": {},
   "outputs": [],
   "source": [
    "import sys\n",
    "!{sys.executable} -m pip install \"langchain[docarray]\""
   ]
  },
  {
   "cell_type": "code",
   "execution_count": null,
   "id": "bd136016-d553-486d-9943-37a4d3f7f3fb",
   "metadata": {},
   "outputs": [],
   "source": [
    "file = 'OutdoorClothingCatalog_1000.csv'\n",
    "loader = CSVLoader(file_path=file)"
   ]
  },
  {
   "cell_type": "code",
   "execution_count": null,
   "id": "821ab384-eb1f-43da-ba64-c45f0aca758b",
   "metadata": {},
   "outputs": [],
   "source": [
    "embedding = VertexAIEmbeddings()\n",
    "llm = ChatVertexAI(temperature=0.0)\n",
    "\n",
    "index = VectorstoreIndexCreator(\n",
    "    embedding=embedding,\n",
    "    vectorstore_cls=DocArrayInMemorySearch\n",
    ").from_loaders([loader])"
   ]
  },
  {
   "cell_type": "code",
   "execution_count": null,
   "id": "cdf3a0d0-1e7a-48da-b103-c6717236e1d4",
   "metadata": {},
   "outputs": [],
   "source": [
    "query =\"Please list all your shirts with sun protection \\\n",
    "in a table in markdown and summarize each one.\""
   ]
  },
  {
   "cell_type": "code",
   "execution_count": null,
   "id": "fa3d1f1c-5471-4ea3-afb4-123800647f93",
   "metadata": {},
   "outputs": [],
   "source": [
    "response = index.query(llm=llm, question=query)"
   ]
  },
  {
   "cell_type": "code",
   "execution_count": null,
   "id": "81a6a79f-fcf0-497a-9920-59a18be19eb7",
   "metadata": {},
   "outputs": [],
   "source": [
    "display(Markdown(response))"
   ]
  },
  {
   "cell_type": "code",
   "execution_count": null,
   "id": "3faeae48-c09a-465f-ad50-74a692b3e9fa",
   "metadata": {},
   "outputs": [],
   "source": [
    "loader = CSVLoader(file_path=file)"
   ]
  },
  {
   "cell_type": "code",
   "execution_count": null,
   "id": "23232e3c-12db-4546-844e-a627ae2dcd75",
   "metadata": {},
   "outputs": [],
   "source": [
    "docs = loader.load()"
   ]
  },
  {
   "cell_type": "code",
   "execution_count": null,
   "id": "37886a32-3288-44bb-bca0-969418c26a1b",
   "metadata": {},
   "outputs": [],
   "source": [
    "docs[0]"
   ]
  },
  {
   "cell_type": "code",
   "execution_count": null,
   "id": "5bc24cd8-57a1-4667-a6a0-273102003555",
   "metadata": {},
   "outputs": [],
   "source": [
    "embed = embedding.embed_query(\"Hi my name is Harrison\")"
   ]
  },
  {
   "cell_type": "code",
   "execution_count": null,
   "id": "36849d7a-1467-4609-bd8a-8b5aa37d89bf",
   "metadata": {},
   "outputs": [],
   "source": [
    "print(len(embed))"
   ]
  },
  {
   "cell_type": "code",
   "execution_count": null,
   "id": "3dda71c3-488e-41c0-bfbe-2814907adfef",
   "metadata": {},
   "outputs": [],
   "source": [
    "print(embed[:5])"
   ]
  },
  {
   "cell_type": "code",
   "execution_count": null,
   "id": "e36d15a8-7865-4864-bd82-a8768fb6b03d",
   "metadata": {},
   "outputs": [],
   "source": [
    "db = DocArrayInMemorySearch.from_documents(\n",
    "    docs, \n",
    "    embedding\n",
    ")"
   ]
  },
  {
   "cell_type": "code",
   "execution_count": null,
   "id": "efb7d7db-e030-4d30-bb29-a23fcda0bf62",
   "metadata": {},
   "outputs": [],
   "source": [
    "query = \"Please suggest a shirt with sunblocking\""
   ]
  },
  {
   "cell_type": "code",
   "execution_count": null,
   "id": "fbf767ce-b4af-4d24-8c81-4b3a87577d82",
   "metadata": {},
   "outputs": [],
   "source": [
    "docs = db.similarity_search(query)"
   ]
  },
  {
   "cell_type": "code",
   "execution_count": null,
   "id": "462c901d-1686-4aea-b70a-e9e7e74ecdf7",
   "metadata": {},
   "outputs": [],
   "source": [
    "len(docs)"
   ]
  },
  {
   "cell_type": "code",
   "execution_count": null,
   "id": "fd41c653-34f0-450b-9b26-730b40c5bfec",
   "metadata": {},
   "outputs": [],
   "source": [
    "docs[0]"
   ]
  },
  {
   "cell_type": "code",
   "execution_count": null,
   "id": "df6a72be-1957-4a09-bbd1-8c36567c8ed2",
   "metadata": {},
   "outputs": [],
   "source": [
    "retriever = db.as_retriever()"
   ]
  },
  {
   "cell_type": "code",
   "execution_count": null,
   "id": "020360fd-9c6d-4ada-a09f-732a0e53604f",
   "metadata": {},
   "outputs": [],
   "source": [
    "qdocs = \"\".join([docs[i].page_content for i in range(len(docs))])\n"
   ]
  },
  {
   "cell_type": "code",
   "execution_count": null,
   "id": "c239c2ff-d091-4c6d-8634-ba20745f1af8",
   "metadata": {},
   "outputs": [],
   "source": [
    "response = llm.call_as_llm(f\"{qdocs} Question: Please list all your \\\n",
    "shirts with sun protection in a table in markdown and summarize each one.\") \n"
   ]
  },
  {
   "cell_type": "code",
   "execution_count": null,
   "id": "1a855310-e39f-42b2-9f58-5c2c670c88aa",
   "metadata": {},
   "outputs": [],
   "source": [
    "display(Markdown(response))"
   ]
  },
  {
   "cell_type": "code",
   "execution_count": null,
   "id": "b354bcdd-5c99-416e-8479-e9665168229c",
   "metadata": {},
   "outputs": [],
   "source": [
    "qa_stuff = RetrievalQA.from_chain_type(\n",
    "    llm=llm, \n",
    "    chain_type=\"stuff\", \n",
    "    retriever=retriever, \n",
    "    verbose=True\n",
    ")"
   ]
  },
  {
   "cell_type": "code",
   "execution_count": null,
   "id": "bd09ca05-fc4e-47b7-a872-935e4c6d1595",
   "metadata": {},
   "outputs": [],
   "source": [
    "query =  \"Please list all your shirts with sun protection in a table \\\n",
    "in markdown and summarize each one.\""
   ]
  },
  {
   "cell_type": "code",
   "execution_count": null,
   "id": "faa5c711-9000-4950-9836-8842fa7c62d5",
   "metadata": {},
   "outputs": [],
   "source": [
    "response = qa_stuff.run(query)"
   ]
  },
  {
   "cell_type": "code",
   "execution_count": null,
   "id": "1b7189ba-13dc-4e1c-999a-58387fa75ef7",
   "metadata": {},
   "outputs": [],
   "source": [
    "display(Markdown(response))"
   ]
  },
  {
   "cell_type": "code",
   "execution_count": null,
   "id": "00967e62-7751-4511-a1e0-7417ead51af4",
   "metadata": {},
   "outputs": [],
   "source": [
    "response = index.query(query, llm=llm)"
   ]
  },
  {
   "cell_type": "code",
   "execution_count": null,
   "id": "592ab8f3-ab9b-43f8-a1d7-51e86acd910a",
   "metadata": {},
   "outputs": [],
   "source": [
    "display(Markdown(response))"
   ]
  },
  {
   "cell_type": "code",
   "execution_count": null,
   "id": "433de1b7-46c3-454e-a89a-3c1bbd4814c0",
   "metadata": {},
   "outputs": [],
   "source": []
  }
 ],
 "metadata": {
  "kernelspec": {
   "display_name": "python39 (Local)",
   "language": "python",
   "name": "local-python39"
  },
  "language_info": {
   "codemirror_mode": {
    "name": "ipython",
    "version": 3
   },
   "file_extension": ".py",
   "mimetype": "text/x-python",
   "name": "python",
   "nbconvert_exporter": "python",
   "pygments_lexer": "ipython3",
   "version": "3.9.16"
  }
 },
 "nbformat": 4,
 "nbformat_minor": 5
}
